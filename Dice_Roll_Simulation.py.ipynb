{
 "cells": [
  {
   "cell_type": "code",
   "execution_count": 36,
   "id": "9bdd6cc9",
   "metadata": {},
   "outputs": [
    {
     "name": "stdout",
     "output_type": "stream",
     "text": [
      "Requirement already satisfied: pillow in c:\\users\\hp\\anaconda3\\lib\\site-packages (9.4.0)\n"
     ]
    }
   ],
   "source": [
    "import tkinter as tk\n",
    "!pip install pillow\n",
    "from PIL import Image, ImageTk\n"
   ]
  },
  {
   "cell_type": "code",
   "execution_count": 47,
   "id": "c84d46c0",
   "metadata": {},
   "outputs": [],
   "source": [
    "import random\n",
    "window = tk.Tk()\n",
    "window.geometry(\"500x350\")\n",
    "window.title(\"Dice Roll\")\n",
    "\n",
    "dice = [\"die_01.gif\", \"die_02.gif\", \"die_03.gif\",\"die_04.gif\",\"die_05.gif\",\"die_06.gif\"]\n",
    "\n",
    "image1 = ImageTk.PhotoImage(Image.open(random.choice(dice)))\n",
    "image2 = ImageTk.PhotoImage(Image.open(random.choice(dice)))\n",
    "\n",
    "label1 = tk.Label(window, image= image1)\n",
    "label2 = tk.Label(window, image= image2)\n",
    "\n",
    "label1.image = image1\n",
    "label2.image = image2\n",
    "\n",
    "label1.place(x = 50, y = 125)\n",
    "label2.place(x = 300, y = 125)\n",
    "\n",
    "def roll_dice():\n",
    "    image1 = ImageTk.PhotoImage(Image.open(random.choice(dice)))\n",
    "    label1.configure(image = image1)\n",
    "    label1.image = image1\n",
    "    \n",
    "    image2 = ImageTk.PhotoImage(Image.open(random.choice(dice)))\n",
    "    label2.configure(image = image2)\n",
    "    label2.image = image2\n",
    "    \n",
    "button = tk.Button(window, text = \"Roll Me!!\", bg = \"black\", fg = \"white\", font = \"Times 20 bold\" ,command=roll_dice )\n",
    "button.place(x = 185, y = 20)\n",
    "window.mainloop()"
   ]
  },
  {
   "cell_type": "code",
   "execution_count": null,
   "id": "92e53a3c",
   "metadata": {},
   "outputs": [],
   "source": []
  }
 ],
 "metadata": {
  "kernelspec": {
   "display_name": "Python 3 (ipykernel)",
   "language": "python",
   "name": "python3"
  },
  "language_info": {
   "codemirror_mode": {
    "name": "ipython",
    "version": 3
   },
   "file_extension": ".py",
   "mimetype": "text/x-python",
   "name": "python",
   "nbconvert_exporter": "python",
   "pygments_lexer": "ipython3",
   "version": "3.10.9"
  }
 },
 "nbformat": 4,
 "nbformat_minor": 5
}
